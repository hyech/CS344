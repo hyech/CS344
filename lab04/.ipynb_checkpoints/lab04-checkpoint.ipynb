{
 "cells": [
  {
   "cell_type": "markdown",
   "metadata": {},
   "source": [
    "## Setup"
   ]
  },
  {
   "cell_type": "code",
   "execution_count": 1,
   "metadata": {},
   "outputs": [],
   "source": [
    "import torch\n",
    "from torch import tensor\n",
    "import ipywidgets as widgets\n",
    "import matplotlib.pyplot as plt\n",
    "%matplotlib inline"
   ]
  },
  {
   "cell_type": "markdown",
   "metadata": {},
   "source": [
    "## Task"
   ]
  },
  {
   "cell_type": "markdown",
   "metadata": {},
   "source": [
    "Suppose we have a dataset with just a single feature `x` and continuous outcome variable `y`.\n",
    "\n",
    "In general we're going to be faced with a dataset with an unknown and probably nonlinear relationship. But for now let's use a simple dataset with a known linear relationship:"
   ]
  },
  {
   "cell_type": "code",
   "execution_count": 2,
   "metadata": {
    "scrolled": true
   },
   "outputs": [
    {
     "data": {
      "image/png": "[encoded data removed]",
      "text/plain": [
       "<Figure size 432x288 with 1 Axes>"
      ]
     },
     "metadata": {
      "needs_background": "light"
     },
     "output_type": "display_data"
    }
   ],
   "source": [
    "true_weights = 4.0\n",
    "true_bias = -1.0\n",
    "\n",
    "# Make the randomness consistent\n",
    "torch.manual_seed(0)\n",
    "# Use random x values\n",
    "x = torch.rand(100)\n",
    "# Generate random noise, same shape as *x*, that has some outliers.\n",
    "noise = torch.distributions.studentT.StudentT(2.0).sample(x.shape)\n",
    "# For a simpler variant, use  torch.randn_like(x).\n",
    "#print(f\"Noise mean: {noise.mean()}, noise variance {noise.var()}\")\n",
    "# Generate true y values \n",
    "y_true = true_weights * x + noise + true_bias\n",
    "# Make a scatterplot. The semicolon at the end says to ignore the return value.\n",
    "plt.scatter(x, y_true);"
   ]
  },
  {
   "cell_type": "code",
   "execution_count": 3,
   "metadata": {},
   "outputs": [],
   "source": [
    "bias = 0.0"
   ]
  },
  {
   "cell_type": "code",
   "execution_count": 20,
   "metadata": {},
   "outputs": [
    {
     "data": {
      "application/vnd.jupyter.widget-view+json": {
       "model_id": "dcc866cee0974c868f9f6868fa7a9470",
       "version_major": 2,
       "version_minor": 0
      },
      "text/plain": [
       "interactive(children=(FloatSlider(value=0.0, description='slope', max=5.0, min=-5.0), Output()), _dom_classes=…"
      ]
     },
     "metadata": {},
     "output_type": "display_data"
    }
   ],
   "source": [
    "@widgets.interact(slope=(-5.0, 5.0))\n",
    "def plot_linreg(slope):\n",
    "    y_pred = slope * x + bias\n",
    "    plt.scatter(x, y_true); plt.plot(x, y_pred, 'r');\n",
    "    resid = y_true - y_pred\n",
    "    mse = (resid ** 2).mean()\n",
    "    mae = resid.abs().mean()\n",
    "    print(f\"MSE: {mse}, MAE: {mae}\")"
   ]
  },
  {
   "cell_type": "markdown",
   "metadata": {},
   "source": [
    "- Slope that minimizes MSE: 1.40\n",
    "- Slope that minimizes MAE: 2.40\n",
    "- Description of the difference: MSE is more lenient toward outliers and thus has a flatter slope."
   ]
  },
  {
   "cell_type": "markdown",
   "metadata": {},
   "source": [
    "### Gradient\n"
   ]
  },
  {
   "cell_type": "code",
   "execution_count": 21,
   "metadata": {},
   "outputs": [],
   "source": [
    "# Function to compute mse\n",
    "def linreg_mse(slope):\n",
    "    y_pred = slope * x + bias\n",
    "    resid = y_true - y_pred\n",
    "    return (resid ** 2).mean()"
   ]
  },
  {
   "cell_type": "code",
   "execution_count": 22,
   "metadata": {},
   "outputs": [
    {
     "data": {
      "text/plain": [
       "tensor(4.6011)"
      ]
     },
     "execution_count": 22,
     "metadata": {},
     "output_type": "execute_result"
    }
   ],
   "source": [
    "linreg_mse(2.40)"
   ]
  },
  {
   "cell_type": "code",
   "execution_count": 23,
   "metadata": {},
   "outputs": [
    {
     "data": {
      "text/plain": [
       "tensor(4.2745)"
      ]
     },
     "execution_count": 23,
     "metadata": {},
     "output_type": "execute_result"
    }
   ],
   "source": [
    "linreg_mse(1.40)"
   ]
  },
  {
   "cell_type": "code",
   "execution_count": 26,
   "metadata": {},
   "outputs": [
    {
     "data": {
      "text/plain": [
       "tensor(-0.9012)"
      ]
     },
     "execution_count": 26,
     "metadata": {},
     "output_type": "execute_result"
    }
   ],
   "source": [
    "# Function to compute gradient\n",
    "def compute_gradient(x0):\n",
    "    eps = 1e-4\n",
    "    return (linreg_mse(x0 + eps) - linreg_mse(x0)) / eps\n",
    "\n",
    "compute_gradient(0.0)"
   ]
  },
  {
   "cell_type": "code",
   "execution_count": 27,
   "metadata": {},
   "outputs": [
    {
     "data": {
      "text/plain": [
       "tensor(0.)"
      ]
     },
     "execution_count": 27,
     "metadata": {},
     "output_type": "execute_result"
    }
   ],
   "source": [
    "compute_gradient(1.4)"
   ]
  },
  {
   "cell_type": "markdown",
   "metadata": {},
   "source": [
    "The gradient approaches 0 as x0 approaches the value that minimizes MSE."
   ]
  },
  {
   "cell_type": "markdown",
   "metadata": {},
   "source": [
    "### Gradient Descent"
   ]
  },
  {
   "cell_type": "markdown",
   "metadata": {},
   "source": [
    "Gradient ascent seeks to maximize the gradient, while gradient descent seeks to minimize the gradient."
   ]
  },
  {
   "cell_type": "code",
   "execution_count": 108,
   "metadata": {},
   "outputs": [],
   "source": [
    "the_slope = 0\n",
    "slopes = []\n",
    "mses = []\n",
    "\n",
    "# Due to constant step, range limits functionality\n",
    "for i in range(20):\n",
    "    eps = 1e-4\n",
    "    mses.append(linreg_mse(the_slope))\n",
    "    slopes.append(the_slope)\n",
    "    grad = (linreg_mse(the_slope + eps) - linreg_mse(the_slope)) / eps\n",
    "    step = 0.1\n",
    "    if grad < 0:\n",
    "        the_slope += step\n",
    "    elif grad == 0:\n",
    "        break;\n",
    "    else:\n",
    "        the_slope -= step"
   ]
  },
  {
   "cell_type": "code",
   "execution_count": 109,
   "metadata": {},
   "outputs": [
    {
     "data": {
      "text/plain": [
       "[<matplotlib.lines.Line2D at 0x7fbfbc287940>]"
      ]
     },
     "execution_count": 109,
     "metadata": {},
     "output_type": "execute_result"
    },
    {
     "data": {
      "image/png": "[encoded data removed]",
      "text/plain": [
       "<Figure size 432x288 with 1 Axes>"
      ]
     },
     "metadata": {
      "needs_background": "light"
     },
     "output_type": "display_data"
    }
   ],
   "source": [
    "plt.plot(slopes, mses)"
   ]
  }
 ],
 "metadata": {
  "kernelspec": {
   "display_name": "Python 3 (ipykernel)",
   "language": "python",
   "name": "python3"
  },
  "language_info": {
   "codemirror_mode": {
    "name": "ipython",
    "version": 3
   },
   "file_extension": ".py",
   "mimetype": "text/x-python",
   "name": "python",
   "nbconvert_exporter": "python",
   "pygments_lexer": "ipython3",
   "version": "3.9.7"
  }
 },
 "nbformat": 4,
 "nbformat_minor": 4
}
